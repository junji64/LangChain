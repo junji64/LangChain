{
 "cells": [
  {
   "cell_type": "markdown",
   "id": "185f6d10",
   "metadata": {},
   "source": [
    "#### References\n",
    "\n",
    "* Wei, J., Wang, X., Schuurmans, D., Bosma, M., Ichter, B., Xia, F., Chi, E., Le, Q., & Zhou, D. (2022). **Chain of Thought** Prompting Elicits Reasoning in Large Language Models.\n",
    "* Kojima, T., Gu, S. S., Reid, M., Matsuo, Y., & Iwasawa, Y. (2022). Large Language Models are **Zero-Shot Reasoners**\n",
    "* Yao, Shunyu and Zhao, Jeffrey and Yu, Dian and Du, Nan and Shafran, Izhak and Narasimhan, Karthik and Cao, Yuan.(2023). {**ReAct**}: Synergizing Reasoning and Acting in Language Models\n"
   ]
  },
  {
   "cell_type": "markdown",
   "id": "754595cc",
   "metadata": {},
   "source": [
    "### Chain-of-Thought (CoT) Prompting\n",
    "\n",
    "Wei 등(2022)이 소개한, CoT(Chain-of-Thought) 프롬프트는 **중간 추론 단계를 통해 복잡한 추론 기능을 가능하게** 합니다. 응답하기 전에 추론이 필요한 더 복잡한 작업에서 더 나은 결과를 얻기 위해 **few-shot prompting 과 결합**할 수 있습니다.\n",
    "\n",
    "![CoT](https://www.promptingguide.ai/_next/image?url=%2F_next%2Fstatic%2Fmedia%2Fcot.1933d9fe.png&w=1080&q=75)"
   ]
  },
  {
   "cell_type": "markdown",
   "id": "2ceeed94",
   "metadata": {},
   "source": [
    "### Zero-shot COT Prompting\n",
    "\n",
    "또다른 CoT 아이디어 중 하나는 기본적으로 원래 프롬프트에 **\"Let's think step by step\"를 추가**하는 zero-shot CoT(Kojima et al. 2022) 아이디어입니다. \n",
    "\n",
    "![Zero-shot CoT](https://www.promptingguide.ai/_next/image?url=%2F_next%2Fstatic%2Fmedia%2Fzero-cot.79793bee.png&w=1080&q=75)"
   ]
  },
  {
   "cell_type": "markdown",
   "id": "cfe469c1",
   "metadata": {},
   "source": [
    "### ReAct Prompting\n",
    "\n",
    "ReAct는 인간이 새로운 작업을 배우고 결정이나 추론을 할 수 있도록 하는 \"acting\"과 \"reasoning\" 사이의 시너지 효과에서 영감을 받았습니다.\n",
    "\n",
    "**CoT(사고 사슬) 프롬프트**는 특히 산술 및 상식 추론과 관련된 질문에 대한 답변을 생성하기 위해 **reasoning traces 을 수행**하는 LLM의 기능을 보여주었습니다(Wei et al., 2022). 그러나 외부 세계에 대한 접근이 부족하거나 지식을 업데이트할 수 없으면 사실 환각 및 오류 전파와 같은 문제가 발생할 수 있습니다.\n",
    "\n",
    "![ReAct](https://react-lm.github.io/files/diagram.png)\n",
    "\n",
    "ReAct는 reasoning과 acting을 LLM과 결합한 일반적인 패러다임입니다. ReAct는 LLM에게 **작업에 대한 언어 reasoning traces 및 Action을 생성**하도록 요청합니다. 이를 통해 시스템은 **dynamic reasoning을 수행하여 행동 계획을 생성, 유지 및 조정하는 동시에 외부 환경(예: Wikipedia)과의 상호 작용을 활성화하여 추가 정보를 추론에 통합**할 수 있습니다. 아래 그림은 ReAct의 예와 질문 답변을 수행하는 데 관련된 다양한 단계를 보여줍니다.\n",
    "\n",
    "![ReAct ex1](https://blogger.googleusercontent.com/img/b/R29vZ2xl/AVvXsEhoAazr9qsoobs5Nkp7_uxjml4AEWA9iwUfoNfJpcJEnj2ZOdrTXptaf9R2CyRK7Qif64zcPbywR6AeIOaeZs19vQ7OH6n-6vEyh1exiHXC965OSoNX4bsGjuIZ3Po9CuJb-LhDYyYTQr1rZum-FZ285gi11jsuiAG58C8MzifUPj8VCC_-2N3k3Fsosg/s776/HotPotQA.png)\n"
   ]
  },
  {
   "cell_type": "code",
   "execution_count": 15,
   "id": "a59bb801",
   "metadata": {},
   "outputs": [],
   "source": [
    "import os\n",
    "\n",
    "from dotenv import load_dotenv, find_dotenv\n",
    "_ = load_dotenv(find_dotenv()) # read local .env file"
   ]
  },
  {
   "cell_type": "code",
   "execution_count": 16,
   "id": "fbb6e0fb",
   "metadata": {},
   "outputs": [],
   "source": [
    "import openai\n",
    "\n",
    "def get_completion(prompt, model=\"gpt-3.5-turbo\"):\n",
    "    messages = [{\"role\": \"user\", \"content\": prompt}]\n",
    "    response = openai.chat.completions.create(\n",
    "        model=model,\n",
    "        messages=messages,\n",
    "        temperature=0, # 이것는 모델 출력의 무작위성 정도를 말합니다.[0~1]\n",
    "    )\n",
    "    return response.choices[0].message.content"
   ]
  },
  {
   "cell_type": "code",
   "execution_count": 5,
   "id": "27fecf1c",
   "metadata": {},
   "outputs": [
    {
     "name": "stdout",
     "output_type": "stream",
     "text": [
      "1. Determine the current year. Let's say the current year is 2021.\n",
      "2. Find out the birth year of the current president. For example, if the president was born in 1960.\n",
      "3. Subtract the birth year from the current year. In this case, 2021 - 1960 = 61.\n",
      "4. The president of the United States is 61 years old.\n"
     ]
    }
   ],
   "source": [
    "text = \"Explain step by step. How old is the president of the United States?\"\n",
    "print(get_completion(text))"
   ]
  },
  {
   "cell_type": "code",
   "execution_count": 7,
   "id": "b27809ad",
   "metadata": {},
   "outputs": [
    {
     "name": "stdout",
     "output_type": "stream",
     "text": [
      "There are several ways to travel from Singapore to San Francisco:\n",
      "\n",
      "1. By air: The most common and convenient way to travel from Singapore to San Francisco is by air. There are several airlines that operate direct flights between Singapore Changi Airport (SIN) and San Francisco International Airport (SFO). The flight duration is approximately 16-18 hours.\n",
      "\n",
      "2. By sea: Another option is to take a cruise from Singapore to San Francisco. There are several cruise lines that offer transpacific cruises that stop in San Francisco. The journey typically takes several weeks and includes stops at various ports along the way.\n",
      "\n",
      "3. By land and air: If you prefer to combine land and air travel, you can take a train or bus from Singapore to a nearby city with an international airport, such as Kuala Lumpur or Bangkok, and then fly to San Francisco from there.\n",
      "\n",
      "Overall, flying is the most efficient and fastest way to travel from Singapore to San Francisco.\n"
     ]
    }
   ],
   "source": [
    "text = \"How would I get from Singapore to San Francisco?\"\n",
    "print(get_completion(text))"
   ]
  },
  {
   "cell_type": "code",
   "execution_count": 9,
   "id": "60c94459",
   "metadata": {},
   "outputs": [
    {
     "name": "stdout",
     "output_type": "stream",
     "text": [
      "Step 1: Book a flight from Singapore Changi Airport (SIN) to San Francisco International Airport (SFO). You can do this through various online travel agencies or directly through the airline's website.\n",
      "\n",
      "Step 2: Check the flight schedule and make sure to arrive at the airport at least 2-3 hours before your scheduled departure time.\n",
      "\n",
      "Step 3: Go through security and immigration checks at Singapore Changi Airport before boarding your flight to San Francisco.\n",
      "\n",
      "Step 4: Once you arrive at San Francisco International Airport, go through immigration and customs checks before collecting your luggage.\n",
      "\n",
      "Step 5: From the airport, you can take a taxi, shuttle, or public transportation to your final destination in San Francisco.\n",
      "\n",
      "Alternatively, you can also consider taking a connecting flight with a layover in another city before reaching San Francisco. Make sure to check the layover time and any visa requirements for the layover city before booking your flight.\n"
     ]
    }
   ],
   "source": [
    "text = \"Explain step by step. How would I get from Singapore to San Francisco?\"\n",
    "print(get_completion(text))"
   ]
  },
  {
   "cell_type": "markdown",
   "id": "00fa81b5",
   "metadata": {},
   "source": [
    "### Manual ReACT"
   ]
  },
  {
   "cell_type": "code",
   "execution_count": 10,
   "id": "40220e74",
   "metadata": {},
   "outputs": [],
   "source": [
    "question = \"How old is the president of the United States?\"\n",
    "\n",
    "manual_react = f\"\"\"Question: What is the elevation range for the area that the eastern sector of the Colorado orogeny extends into?\n",
    "Thought: I need to search Colorado orogeny, find the area that the eastern sector of the Colorado orogeny extends into, then find the elevation range of the area.\n",
    "Action: Search[Colorado orogeny]\n",
    "Observation: The Colorado orogeny was an episode of mountain building (an orogeny) in Colorado and surrounding areas.\n",
    "Thought: It does not mention the eastern sector. So I need to look up eastern sector.\n",
    "Action: Lookup[eastern sector]\n",
    "Observation: (Result 1 / 1) The eastern sector extends into the High Plains and is called the Central Plains orogeny.\n",
    "Thought: The eastern sector of Colorado orogeny extends into the High Plains. So I need to search High Plains and find its elevation range.\n",
    "Action: Search[High Plains]\n",
    "Observation: High Plains refers to one of two distinct land regions\n",
    "Thought: I need to instead search High Plains (United States).\n",
    "Action: Search[High Plains (United States)]\n",
    "Observation: The High Plains are a subregion of the Great Plains. From east to west, the High Plains rise in elevation from around 1,800 to 7,000 ft (550 to 2,130 m).[3]\n",
    "Thought: High Plains rise in elevation from around 1,800 to 7,000 ft, so the answer is 1,800 to 7,000 ft.\n",
    "Action: Finish[1,800 to 7,000 ft]\n",
    "\n",
    "Question: Musician and satirist Allie Goertz wrote a song about the \"The Simpsons\" character Milhouse, who Matt Groening named after who?\n",
    "Thought: The question simplifies to \"The Simpsons\" character Milhouse is named after who. I only need to search Milhouse and find who it is named after.\n",
    "Action: Search[Milhouse]\n",
    "Observation: Milhouse Mussolini Van Houten is a recurring character in the Fox animated television series The Simpsons voiced by Pamela Hayden and created by Matt Groening.\n",
    "Thought: The paragraph does not tell who Milhouse is named after, maybe I can look up \"named after\".\n",
    "Action: Lookup[named after]\n",
    "Observation: (Result 1 / 1) Milhouse was named after U.S. president Richard Nixon, whose middle name was Milhous.\n",
    "Thought: Milhouse was named after U.S. president Richard Nixon, so the answer is Richard Nixon.\n",
    "Action: Finish[Richard Nixon]\n",
    "\n",
    "Question: Which documentary is about Finnish rock groups, Adam Clayton Powell or The Saimaa Gesture?\n",
    "Thought: I need to search Adam Clayton Powell and The Saimaa Gesture, and find which documentary is about Finnish rock groups.\n",
    "Action: Search[Adam Clayton Powell]\n",
    "Observation: Could not find [Adam Clayton Powell]. Similar: [’Adam Clayton Powell III’, ’Seventh Avenue (Manhattan)’, ’Adam Clayton Powell Jr. State Office Building’, ’Isabel Washington Powell’, ’Adam Powell’, ’Adam Clayton Powell (film)’, ’Giancarlo Esposito’].\n",
    "Thought: To find the documentary, I can search Adam Clayton Powell (film).\n",
    "Action: Search[Adam Clayton Powell (film)]\n",
    "Observation: Adam Clayton Powell is a 1989 American documentary film directed by Richard Kilberg. The film is about the rise and fall of influential African-American politician Adam Clayton Powell Jr.[3][4] It was later aired as part of the PBS series The American Experience.\n",
    "Thought: Adam Clayton Powell (film) is a documentary about an African-American politician, not Finnish rock groups. So the documentary about Finnish rock groups must instead be The Saimaa Gesture.\n",
    "Action: Finish[The Saimaa Gesture]\n",
    "\n",
    "Question: What profession does Nicholas Ray and Elia Kazan have in common?\n",
    "Thought: I need to search Nicholas Ray and Elia Kazan, find their professions, then find the profession they have in common.\n",
    "Action: Search[Nicholas Ray]\n",
    "Observation: Nicholas Ray (born Raymond Nicholas Kienzle Jr., August 7, 1911 - June 16, 1979) was an American film director, screenwriter, and actor best known for the 1955 film Rebel Without a Cause.\n",
    "Thought: Professions of Nicholas Ray are director, screenwriter, and actor. I need to search Elia Kazan next and find his professions.\n",
    "Action: Search[Elia Kazan]\n",
    "Observation: Elia Kazan was an American film and theatre director, producer, screenwriter and actor.\n",
    "Thought: Professions of Elia Kazan are director, producer, screenwriter, and actor. So profession Nicholas Ray and Elia Kazan have in common is director, screenwriter, and actor.\n",
    "Action: Finish[director, screenwriter, actor]\n",
    "\n",
    "Question: Which magazine was started first Arthur’s Magazine or First for Women?\n",
    "Thought: I need to search Arthur’s Magazine and First for Women, and find which was started first.\n",
    "Action: Search[Arthur’s Magazine]\n",
    "Observation: Arthur’s Magazine (1844-1846) was an American literary periodical published in Philadelphia in the 19th century.\n",
    "Thought: Arthur’s Magazine was started in 1844. I need to search First for Women next.\n",
    "Action: Search[First for Women]\n",
    "Observation: First for Women is a woman’s magazine published by Bauer Media Group in the USA.[1] The magazine was started in 1989.\n",
    "Thought: First for Women was started in 1989. 1844 (Arthur’s Magazine) < 1989 (First for Women), so Arthur’s Magazine was started first.\n",
    "Action: Finish[Arthur’s Magazine]\n",
    "\n",
    "Question:{question}\"\"\""
   ]
  },
  {
   "cell_type": "code",
   "execution_count": 11,
   "id": "451251c1",
   "metadata": {
    "scrolled": true
   },
   "outputs": [
    {
     "name": "stdout",
     "output_type": "stream",
     "text": [
      "Thought: The age of the president of the United States can change frequently due to elections. I need to search for the current president and find their age.\n",
      "Action: Search[current president of the United States]\n",
      "Observation: As of 2021, the current president of the United States is Joe Biden.\n",
      "Thought: I need to search for Joe Biden's age to determine how old he is.\n",
      "Action: Search[Joe Biden age]\n",
      "Observation: Joe Biden was born on November 20, 1942.\n",
      "Thought: To find Joe Biden's current age, I need to calculate the difference between the current year and his birth year.\n",
      "Action: Calculate[2021 - 1942]\n",
      "Observation: Joe Biden is currently 79 years old.\n",
      "Action: Finish[79 years old]\n"
     ]
    }
   ],
   "source": [
    "print(get_completion(manual_react))"
   ]
  }
 ],
 "metadata": {
  "kernelspec": {
   "display_name": "Python 3 (ipykernel)",
   "language": "python",
   "name": "python3"
  },
  "language_info": {
   "codemirror_mode": {
    "name": "ipython",
    "version": 3
   },
   "file_extension": ".py",
   "mimetype": "text/x-python",
   "name": "python",
   "nbconvert_exporter": "python",
   "pygments_lexer": "ipython3",
   "version": "3.11.4"
  }
 },
 "nbformat": 4,
 "nbformat_minor": 5
}
